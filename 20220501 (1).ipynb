{
 "cells": [
  {
   "cell_type": "markdown",
   "metadata": {},
   "source": [
    "# Final quiz, 3 of 3\n",
    "\n",
    "## Decision Trees, Random Forests, and Neural Networks\n",
    "\n",
    "### Instructions:\n",
    "\n",
    "
   ]
  },
  {
   "cell_type": "code",
   "execution_count": 1,
   "metadata": {},
   "outputs": [],
   "source": [
    "# We'll import that tools you'll need.\n",
    "# You may import additional tools if you wish to.\n",
    "import numpy as np\n",
    "from sklearn.tree import DecisionTreeClassifier\n",
    "from sklearn.ensemble import RandomForestClassifier\n",
    "from sklearn.model_selection import train_test_split\n",
    "from sklearn import datasets\n",
    "\n",
    "import matplotlib.pyplot as plt\n",
    "%matplotlib inline"
   ]
  },
  {
   "cell_type": "markdown",
   "metadata": {},
   "source": [
    "## Digit recognition\n",
    "\n",
    "In our neural network exercise, we trained a NN for classifying images of handwritten digits. We'll do the same here, using trees and forests. Our image sizes will be smaller than those we used for the NN exercise, to allow for faster processing. Images are 8x8 pixels, which are flattened into 64 features."
   ]
  },
  {
   "cell_type": "markdown",
   "metadata": {},
   "source": [
    "### Part 1 of 3\n",
    "\n",
    "### Train a decision tree classifier\n",
    "\n",
    "The cell below will load the data set. Add code to the cell and run it, to help you answer the following questions.\n",
    "\n",
    "**Q6: How many samples are in the data set?**\n",
    "\n",
    "---\n",
    "Split your data into 80% training and 20% testing sets. **In your call to ```train_test_split()```, set the random_state parameter to 0, so you will get the same result as everyone else: ```random_state=0```.**\n",
    "\n",
    "Construct and train a decision tree model on the data. Let the tree grow to have maximum depth (```max_depth=None```). **Again, set the random_state parameter to 0 (```random_state=0```).** (Although the training is largely deterministic, sklearn randomly selects a feature if two or more features would give equal Gini Impurity reduction at a split).\n",
    "\n",
    "Train the tree on your training set and test it on the test set.\n",
    "\n",
    "**Q7: What is the decision tree accuracy score for the test set?**"
   ]
  },
  {
   "cell_type": "code",
   "execution_count": 2,
   "metadata": {},
   "outputs": [],
   "source": [
    "##################\n",
    "## Part 1 of 2\n",
    "##################\n",
    "## Load the (flattened) digit images and labels\n",
    "# X is a numpy array of pixels, with a shape of (num_samples, num_features)\n",
    "# y is a numpy array of labels (digit numbers), with a shape of (num_samples)\n",
    "(X, y) = datasets.load_digits(n_class=10, return_X_y=True)\n",
    "\n",
    "#######################################################\n"
   ]
  },
  {
   "cell_type": "markdown",
   "metadata": {},
   "source": [
    "### Part 2 of 3\n",
    "\n",
    "### Train several random forest models\n",
    "\n",
    "Add code to the cell below and run it, to help you answer the following questions.\n",
    "\n",
    "---\n",
    "**Model 1**:\n",
    "Using the same training and test sets you created above, construct, train, and test a random forest classifier with the following parameters:\n",
    "```\n",
    "n_estimators=10\n",
    "bootstrap=True\n",
    "max_features='sqrt'\n",
    "random_state=0\n",
    "```\n",
    "This creates a model that is a traditional RF model, including sample bagging (```bootstrap=True```) and feature _subset_ randomization (```max_features='sqrt'```).\n",
    "\n",
    "**Q8: What is the RF Model 1 accuracy score for the test set?**\n",
    "\n",
    "\n",
    "---\n",
    "**Model 2**:\n",
    "Using the same training and test sets you created above, construct, train, and test a random forest classifier with the following parameters:\n",
    "```\n",
    "n_estimators=10\n",
    "bootstrap=False\n",
    "max_features=64\n",
    "random_state=0\n",
    "```\n",
    "This creates a model that **does not** randomly select subsets of samples and features. All the trees in the forest are nearly identical (the only difference being the random selection amongst feature that give equal reductions in Gini Impurity).\n",
    "\n",
    "**Q9: What is the RF Model 2 accuracy score for the test set?**\n",
    "\n",
    "\n",
    "---\n",
    "**Model 3**:\n",
    "Using the same training and test sets you created above, construct, train, and test a random forest classifier with the following parameters:\n",
    "```\n",
    "n_estimators=100\n",
    "bootstrap=True\n",
    "max_features='sqrt'\n",
    "random_state=0\n",
    "```\n",
    "This is the same as Model 1 (a traditional RF model), except you'll use 100 trees rather than 10 trees. More trees often results in a better model.\n",
    "\n",
    "**Q10: What is the RF Model 3 accuracy score for the test set?**"
   ]
  },
  {
   "cell_type": "code",
   "execution_count": 3,
   "metadata": {},
   "outputs": [],
   "source": [
    "##################\n",
    "## Part 2 of 3\n",
    "##################\n",
    "#\n",
    "\n"
   ]
  },
  {
   "cell_type": "markdown",
   "metadata": {},
   "source": [
    "### Plot the feature importance\n",
    "\n",
    "Add code to the cell below and run it, to help you answer the following question.\n",
    "\n",
    "---\n",
    "Working with the trained Model 3, get the feature importance values from the model, and reshape them into an 8x8 array (matrix), so they are ordered like one of the 8x8 digit images (see code below to clarify). Then plot the importance matrix as an image.\n",
    "\n",
    "**Q11: Which best describes the pattern exhibited by the matrix of feature importances?  \n",
    "a. Pixels near the edges of the images are most important.  \n",
    "b. Pixels near the edges of the images are least important.  \n",
    "c. All pixels are nearly equally important. There is little variation.**"
   ]
  },
  {
   "cell_type": "code",
   "execution_count": 4,
   "metadata": {},
   "outputs": [
    {
     "data": {
      "text/plain": [
       "<matplotlib.colorbar.Colorbar at 0x1254235d0>"
      ]
     },
     "execution_count": 4,
     "metadata": {},
     "output_type": "execute_result"
    },
    {
     "data": {
      "image/png": "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\n",
      "text/plain": [
       "<Figure size 432x288 with 2 Axes>"
      ]
     },
     "metadata": {
      "needs_background": "light"
     },
     "output_type": "display_data"
    }
   ],
   "source": [
    "##################\n",
    "## Part 3 of 3\n",
    "##################\n",
    "#\n",
    "# Reshape the pixels of a sample into an 8x8 matrix, and plot.\n",
    "digit_sample = X[0,:] # get single image sample\n",
    "digit_matrix = np.reshape(digit_sample, (8, 8)) # reshape from 64 pixel vector to 8x8 pixel matrix\n",
    "plt.figure()\n",
    "plt.imshow(digit_matrix)\n",
    "plt.colorbar()\n",
    "#\n",
    "\n",
    "\n",
    "## Add to (edit) the code below to create the importance matrix as instructed above.\n"
   ]
  }
 ],
 "metadata": {
  "kernelspec": {
   "display_name": "Python 3 (ipykernel)",
   "language": "python",
   "name": "python3"
  },
  "language_info": {
   "codemirror_mode": {
    "name": "ipython",
    "version": 3
   },
   "file_extension": ".py",
   "mimetype": "text/x-python",
   "name": "python",
   "nbconvert_exporter": "python",
   "pygments_lexer": "ipython3",
   "version": "3.9.7"
  }
 },
 "nbformat": 4,
 "nbformat_minor": 2
}
